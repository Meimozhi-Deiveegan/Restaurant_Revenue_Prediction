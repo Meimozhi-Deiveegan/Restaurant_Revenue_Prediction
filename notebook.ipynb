{
  "cells": [
    {
      "cell_type": "markdown",
      "metadata": {
        "id": "S9LbURBGWXPb"
      },
      "source": [
        "**Import the libraries**\n"
      ]
    },
    {
      "cell_type": "code",
      "execution_count": 1,
      "metadata": {
        "id": "2hKSOMe9Gybm"
      },
      "outputs": [],
      "source": [
        "import pandas as pd\n",
        "import numpy as np\n",
        "import matplotlib.pyplot as plt"
      ]
    },
    {
      "cell_type": "markdown",
      "metadata": {
        "id": "PL7EbALUWmoN"
      },
      "source": [
        "**Load the dataset**"
      ]
    },
    {
      "cell_type": "code",
      "execution_count": 2,
      "metadata": {
        "id": "fKQztvHPG6z-"
      },
      "outputs": [],
      "source": [
        "df=pd.read_csv(\"revenue_prediction.csv\")"
      ]
    },
    {
      "cell_type": "code",
      "execution_count": 3,
      "metadata": {
        "colab": {
          "base_uri": "https://localhost:8080/",
          "height": 206
        },
        "id": "fJu7vhdQHDUT",
        "outputId": "9aa77fce-21e3-411e-ad7b-596cb4848b20"
      },
      "outputs": [
        {
          "data": {
            "text/html": [
              "<div>\n",
              "<style scoped>\n",
              "    .dataframe tbody tr th:only-of-type {\n",
              "        vertical-align: middle;\n",
              "    }\n",
              "\n",
              "    .dataframe tbody tr th {\n",
              "        vertical-align: top;\n",
              "    }\n",
              "\n",
              "    .dataframe thead th {\n",
              "        text-align: right;\n",
              "    }\n",
              "</style>\n",
              "<table border=\"1\" class=\"dataframe\">\n",
              "  <thead>\n",
              "    <tr style=\"text-align: right;\">\n",
              "      <th></th>\n",
              "      <th>Id</th>\n",
              "      <th>Name</th>\n",
              "      <th>Franchise</th>\n",
              "      <th>Category</th>\n",
              "      <th>City</th>\n",
              "      <th>No_Of_Item</th>\n",
              "      <th>Order_Placed</th>\n",
              "      <th>Revenue</th>\n",
              "    </tr>\n",
              "  </thead>\n",
              "  <tbody>\n",
              "    <tr>\n",
              "      <th>0</th>\n",
              "      <td>101</td>\n",
              "      <td>HungryHowie'sPizza</td>\n",
              "      <td>Yes</td>\n",
              "      <td>Mexican</td>\n",
              "      <td>Bengaluru</td>\n",
              "      <td>55</td>\n",
              "      <td>5.5</td>\n",
              "      <td>5953753</td>\n",
              "    </tr>\n",
              "    <tr>\n",
              "      <th>1</th>\n",
              "      <td>102</td>\n",
              "      <td>CharleysPhillySteaks</td>\n",
              "      <td>No</td>\n",
              "      <td>Varied Menu</td>\n",
              "      <td>Gurugram</td>\n",
              "      <td>72</td>\n",
              "      <td>6.8</td>\n",
              "      <td>7223131</td>\n",
              "    </tr>\n",
              "    <tr>\n",
              "      <th>2</th>\n",
              "      <td>103</td>\n",
              "      <td>Chuy's</td>\n",
              "      <td>Yes</td>\n",
              "      <td>Chicken</td>\n",
              "      <td>Pune</td>\n",
              "      <td>25</td>\n",
              "      <td>1.9</td>\n",
              "      <td>2555379</td>\n",
              "    </tr>\n",
              "    <tr>\n",
              "      <th>3</th>\n",
              "      <td>104</td>\n",
              "      <td>O'Charley's</td>\n",
              "      <td>Yes</td>\n",
              "      <td>Italian/Pizza</td>\n",
              "      <td>Mumbai</td>\n",
              "      <td>18</td>\n",
              "      <td>2.5</td>\n",
              "      <td>2175511</td>\n",
              "    </tr>\n",
              "    <tr>\n",
              "      <th>4</th>\n",
              "      <td>105</td>\n",
              "      <td>PolloTropical</td>\n",
              "      <td>Yes</td>\n",
              "      <td>Pizza</td>\n",
              "      <td>Noida</td>\n",
              "      <td>48</td>\n",
              "      <td>4.2</td>\n",
              "      <td>4816715</td>\n",
              "    </tr>\n",
              "  </tbody>\n",
              "</table>\n",
              "</div>"
            ],
            "text/plain": [
              "    Id                  Name Franchise       Category       City  No_Of_Item  \\\n",
              "0  101    HungryHowie'sPizza       Yes        Mexican  Bengaluru          55   \n",
              "1  102  CharleysPhillySteaks        No    Varied Menu   Gurugram          72   \n",
              "2  103                Chuy's       Yes        Chicken       Pune          25   \n",
              "3  104           O'Charley's       Yes  Italian/Pizza     Mumbai          18   \n",
              "4  105         PolloTropical       Yes          Pizza      Noida          48   \n",
              "\n",
              "   Order_Placed  Revenue  \n",
              "0           5.5  5953753  \n",
              "1           6.8  7223131  \n",
              "2           1.9  2555379  \n",
              "3           2.5  2175511  \n",
              "4           4.2  4816715  "
            ]
          },
          "execution_count": 3,
          "metadata": {},
          "output_type": "execute_result"
        }
      ],
      "source": [
        "df.head()"
      ]
    },
    {
      "cell_type": "markdown",
      "metadata": {
        "id": "LCu0U7eEb5i4"
      },
      "source": [
        "**Examining missing values in a dataset**"
      ]
    },
    {
      "cell_type": "code",
      "execution_count": 4,
      "metadata": {
        "colab": {
          "base_uri": "https://localhost:8080/"
        },
        "id": "_sXfMTB-byUZ",
        "outputId": "4fd02d5b-02bd-4e50-b511-bc909e63d803"
      },
      "outputs": [
        {
          "data": {
            "text/plain": [
              "Id              0\n",
              "Name            0\n",
              "Franchise       0\n",
              "Category        0\n",
              "City            0\n",
              "No_Of_Item      0\n",
              "Order_Placed    0\n",
              "Revenue         0\n",
              "dtype: int64"
            ]
          },
          "execution_count": 4,
          "metadata": {},
          "output_type": "execute_result"
        }
      ],
      "source": [
        "df.isnull().sum()"
      ]
    },
    {
      "cell_type": "markdown",
      "metadata": {
        "id": "z5pDy1_iWx_2"
      },
      "source": [
        "**Drop irrelevant columns**"
      ]
    },
    {
      "cell_type": "code",
      "execution_count": 5,
      "metadata": {
        "id": "nJyavrYXVejd"
      },
      "outputs": [],
      "source": [
        "df=df.drop(columns=[\"Id\",\"Name\",\"Franchise\",\"Category\",\"City\",\"No_Of_Item\"])"
      ]
    },
    {
      "cell_type": "code",
      "execution_count": 6,
      "metadata": {
        "colab": {
          "base_uri": "https://localhost:8080/",
          "height": 206
        },
        "id": "qyq_DulNW4uM",
        "outputId": "d829e46f-e54c-43cb-924e-79a88a8fa172"
      },
      "outputs": [
        {
          "data": {
            "text/html": [
              "<div>\n",
              "<style scoped>\n",
              "    .dataframe tbody tr th:only-of-type {\n",
              "        vertical-align: middle;\n",
              "    }\n",
              "\n",
              "    .dataframe tbody tr th {\n",
              "        vertical-align: top;\n",
              "    }\n",
              "\n",
              "    .dataframe thead th {\n",
              "        text-align: right;\n",
              "    }\n",
              "</style>\n",
              "<table border=\"1\" class=\"dataframe\">\n",
              "  <thead>\n",
              "    <tr style=\"text-align: right;\">\n",
              "      <th></th>\n",
              "      <th>Order_Placed</th>\n",
              "      <th>Revenue</th>\n",
              "    </tr>\n",
              "  </thead>\n",
              "  <tbody>\n",
              "    <tr>\n",
              "      <th>0</th>\n",
              "      <td>5.5</td>\n",
              "      <td>5953753</td>\n",
              "    </tr>\n",
              "    <tr>\n",
              "      <th>1</th>\n",
              "      <td>6.8</td>\n",
              "      <td>7223131</td>\n",
              "    </tr>\n",
              "    <tr>\n",
              "      <th>2</th>\n",
              "      <td>1.9</td>\n",
              "      <td>2555379</td>\n",
              "    </tr>\n",
              "    <tr>\n",
              "      <th>3</th>\n",
              "      <td>2.5</td>\n",
              "      <td>2175511</td>\n",
              "    </tr>\n",
              "    <tr>\n",
              "      <th>4</th>\n",
              "      <td>4.2</td>\n",
              "      <td>4816715</td>\n",
              "    </tr>\n",
              "  </tbody>\n",
              "</table>\n",
              "</div>"
            ],
            "text/plain": [
              "   Order_Placed  Revenue\n",
              "0           5.5  5953753\n",
              "1           6.8  7223131\n",
              "2           1.9  2555379\n",
              "3           2.5  2175511\n",
              "4           4.2  4816715"
            ]
          },
          "execution_count": 6,
          "metadata": {},
          "output_type": "execute_result"
        }
      ],
      "source": [
        "df.head()"
      ]
    },
    {
      "cell_type": "code",
      "execution_count": 7,
      "metadata": {
        "colab": {
          "base_uri": "https://localhost:8080/"
        },
        "id": "ZaLfHNMzHHdN",
        "outputId": "22465f95-31ac-443b-8caf-32cbfe9fe53c"
      },
      "outputs": [
        {
          "data": {
            "text/plain": [
              "(100, 2)"
            ]
          },
          "execution_count": 7,
          "metadata": {},
          "output_type": "execute_result"
        }
      ],
      "source": [
        "df.shape"
      ]
    },
    {
      "cell_type": "markdown",
      "metadata": {
        "id": "IiEj90pJWVhJ"
      },
      "source": [
        "**Create independent feature and dependent variable**"
      ]
    },
    {
      "cell_type": "code",
      "execution_count": 8,
      "metadata": {
        "id": "j8GHNVHTHJZE"
      },
      "outputs": [],
      "source": [
        "x=df.iloc[:,:-1].values\n",
        "y=df.iloc[:,-1].values  "
      ]
    },
    {
      "cell_type": "markdown",
      "metadata": {
        "id": "kRa0LKopaJXJ"
      },
      "source": [
        "**Split the dataset into Training set and Test set**"
      ]
    },
    {
      "cell_type": "code",
      "execution_count": 9,
      "metadata": {
        "id": "ze2FGppHHUCl"
      },
      "outputs": [],
      "source": [
        "from sklearn.model_selection import train_test_split\n",
        "x_train,x_test,y_train,y_test=train_test_split(x,y,test_size=0.2,random_state=22)"
      ]
    },
    {
      "cell_type": "code",
      "execution_count": 10,
      "metadata": {
        "colab": {
          "base_uri": "https://localhost:8080/"
        },
        "id": "3sWj-yFDWWQP",
        "outputId": "42815376-b43c-4328-ffa6-4aecd4b7f70d"
      },
      "outputs": [
        {
          "name": "stdout",
          "output_type": "stream",
          "text": [
            "[[ 3.1]\n",
            " [ 4.1]\n",
            " [ 3.5]\n",
            " [ 2.1]\n",
            " [ 4. ]\n",
            " [ 1.9]\n",
            " [ 6.3]\n",
            " [ 1.6]\n",
            " [ 6.2]\n",
            " [ 3.6]\n",
            " [ 3.5]\n",
            " [ 3.6]\n",
            " [ 3.1]\n",
            " [ 2.1]\n",
            " [ 6.5]\n",
            " [ 8.8]\n",
            " [ 1.7]\n",
            " [10.8]\n",
            " [ 3.6]\n",
            " [ 2.1]\n",
            " [ 3.8]\n",
            " [ 4.6]\n",
            " [ 3.1]\n",
            " [ 5. ]\n",
            " [ 3.1]\n",
            " [ 2.6]\n",
            " [ 3.5]\n",
            " [ 3.1]\n",
            " [ 5.1]\n",
            " [ 2.4]\n",
            " [ 2.8]\n",
            " [ 2.5]\n",
            " [ 3.8]\n",
            " [ 8.1]\n",
            " [ 5.4]\n",
            " [ 5.3]\n",
            " [ 5.4]\n",
            " [ 2.1]\n",
            " [ 1. ]\n",
            " [ 4.2]\n",
            " [ 3.6]\n",
            " [ 1.5]\n",
            " [ 3.4]\n",
            " [ 3.9]\n",
            " [ 7.1]\n",
            " [ 3. ]\n",
            " [ 2.9]\n",
            " [ 3.3]\n",
            " [ 6.8]\n",
            " [ 7.7]\n",
            " [ 1.6]\n",
            " [ 4.7]\n",
            " [ 5. ]\n",
            " [ 5.1]\n",
            " [ 2.8]\n",
            " [ 5.7]\n",
            " [ 4.3]\n",
            " [ 1.7]\n",
            " [ 6.1]\n",
            " [ 1.9]\n",
            " [ 5.3]\n",
            " [ 3.3]\n",
            " [ 3.3]\n",
            " [ 5.3]\n",
            " [ 4.9]\n",
            " [ 6.7]\n",
            " [ 1.1]\n",
            " [ 4.4]\n",
            " [ 4. ]\n",
            " [ 3.7]\n",
            " [ 1.9]\n",
            " [ 3.6]\n",
            " [ 1.8]\n",
            " [ 5.2]\n",
            " [ 3.3]\n",
            " [ 4.8]\n",
            " [ 3.9]\n",
            " [ 2.4]\n",
            " [ 4. ]\n",
            " [ 4.2]]\n"
          ]
        }
      ],
      "source": [
        "print(x_train)"
      ]
    },
    {
      "cell_type": "code",
      "execution_count": 11,
      "metadata": {
        "colab": {
          "base_uri": "https://localhost:8080/"
        },
        "id": "1KxOKdRgX-g1",
        "outputId": "105fbceb-1a39-4fb2-e7c1-bf6c8ee1cd83"
      },
      "outputs": [
        {
          "name": "stdout",
          "output_type": "stream",
          "text": [
            "[[ 1.9]\n",
            " [ 8.5]\n",
            " [ 3.6]\n",
            " [ 1.9]\n",
            " [ 2.6]\n",
            " [ 1.6]\n",
            " [ 5.8]\n",
            " [ 4.8]\n",
            " [ 4.4]\n",
            " [ 7.2]\n",
            " [13. ]\n",
            " [ 3.8]\n",
            " [ 4.3]\n",
            " [ 1.9]\n",
            " [ 3.1]\n",
            " [ 2.9]\n",
            " [ 6.8]\n",
            " [ 2.2]\n",
            " [ 4.5]\n",
            " [ 5.5]]\n"
          ]
        }
      ],
      "source": [
        "print(x_test)"
      ]
    },
    {
      "cell_type": "code",
      "execution_count": 12,
      "metadata": {
        "colab": {
          "base_uri": "https://localhost:8080/"
        },
        "id": "9lZC_keYX-jZ",
        "outputId": "381971a6-ce21-4a36-90cc-8cdfa19a42e6"
      },
      "outputs": [
        {
          "name": "stdout",
          "output_type": "stream",
          "text": [
            "[ 3347767  4250758  3727364  2967425  4136425  2083447  6412623  1756069\n",
            "  6694797  3945135  3871344  3903884  3351383  2390534  6782425  7904084\n",
            "  1904842 19696939  2778621  2364478  4052733  7705945  3918918  5966635\n",
            "  3273041  2732645  3753720  3261924  5286212  2525375  3028267  2175511\n",
            "  3982767  7513524  5025735  4544227  5595267  2344689   849870  4350573\n",
            "  3836721  1619683  3600467  4066618  7201784  3164972  3004429  3452382\n",
            "  7223131  7865428  1763231  5107746  3861370  5500818  1999068  5966193\n",
            "  6491607  1882131  6313221  1521934  5461700  2447890  3426169  6135276\n",
            "  4517319  6836483  1270499  4554237  4100886  3818055  2025297  3752885\n",
            "  1099097  4937526  3410878  5152497  4250553  2551252  4264176  4816715]\n"
          ]
        }
      ],
      "source": [
        "print(y_train)"
      ]
    },
    {
      "cell_type": "code",
      "execution_count": 13,
      "metadata": {
        "colab": {
          "base_uri": "https://localhost:8080/"
        },
        "id": "FwnUjP38X-l4",
        "outputId": "3ea832ba-f786-4e7b-f13c-d08010205d3e"
      },
      "outputs": [
        {
          "name": "stdout",
          "output_type": "stream",
          "text": [
            "[ 2555379  8630682  3807496  2358644  2740687  2234634  5906596  4952255\n",
            "  4567678  7495092 16549064  4956086  4590423  2156098  3258837  2408199\n",
            "  6941173  2371202  4651866  5953753]\n"
          ]
        }
      ],
      "source": [
        "print(y_test)"
      ]
    },
    {
      "cell_type": "markdown",
      "metadata": {
        "id": "X7Y6_KWEaviN"
      },
      "source": [
        "**Training the Simple Linear Regression model on the Training set**"
      ]
    },
    {
      "cell_type": "code",
      "execution_count": 14,
      "metadata": {
        "colab": {
          "base_uri": "https://localhost:8080/"
        },
        "id": "Z2Bj1OBBX-n4",
        "outputId": "39eb879b-2038-4b31-9540-f39b18903783"
      },
      "outputs": [
        {
          "data": {
            "text/html": [
              "<style>#sk-container-id-1 {color: black;}#sk-container-id-1 pre{padding: 0;}#sk-container-id-1 div.sk-toggleable {background-color: white;}#sk-container-id-1 label.sk-toggleable__label {cursor: pointer;display: block;width: 100%;margin-bottom: 0;padding: 0.3em;box-sizing: border-box;text-align: center;}#sk-container-id-1 label.sk-toggleable__label-arrow:before {content: \"▸\";float: left;margin-right: 0.25em;color: #696969;}#sk-container-id-1 label.sk-toggleable__label-arrow:hover:before {color: black;}#sk-container-id-1 div.sk-estimator:hover label.sk-toggleable__label-arrow:before {color: black;}#sk-container-id-1 div.sk-toggleable__content {max-height: 0;max-width: 0;overflow: hidden;text-align: left;background-color: #f0f8ff;}#sk-container-id-1 div.sk-toggleable__content pre {margin: 0.2em;color: black;border-radius: 0.25em;background-color: #f0f8ff;}#sk-container-id-1 input.sk-toggleable__control:checked~div.sk-toggleable__content {max-height: 200px;max-width: 100%;overflow: auto;}#sk-container-id-1 input.sk-toggleable__control:checked~label.sk-toggleable__label-arrow:before {content: \"▾\";}#sk-container-id-1 div.sk-estimator input.sk-toggleable__control:checked~label.sk-toggleable__label {background-color: #d4ebff;}#sk-container-id-1 div.sk-label input.sk-toggleable__control:checked~label.sk-toggleable__label {background-color: #d4ebff;}#sk-container-id-1 input.sk-hidden--visually {border: 0;clip: rect(1px 1px 1px 1px);clip: rect(1px, 1px, 1px, 1px);height: 1px;margin: -1px;overflow: hidden;padding: 0;position: absolute;width: 1px;}#sk-container-id-1 div.sk-estimator {font-family: monospace;background-color: #f0f8ff;border: 1px dotted black;border-radius: 0.25em;box-sizing: border-box;margin-bottom: 0.5em;}#sk-container-id-1 div.sk-estimator:hover {background-color: #d4ebff;}#sk-container-id-1 div.sk-parallel-item::after {content: \"\";width: 100%;border-bottom: 1px solid gray;flex-grow: 1;}#sk-container-id-1 div.sk-label:hover label.sk-toggleable__label {background-color: #d4ebff;}#sk-container-id-1 div.sk-serial::before {content: \"\";position: absolute;border-left: 1px solid gray;box-sizing: border-box;top: 0;bottom: 0;left: 50%;z-index: 0;}#sk-container-id-1 div.sk-serial {display: flex;flex-direction: column;align-items: center;background-color: white;padding-right: 0.2em;padding-left: 0.2em;position: relative;}#sk-container-id-1 div.sk-item {position: relative;z-index: 1;}#sk-container-id-1 div.sk-parallel {display: flex;align-items: stretch;justify-content: center;background-color: white;position: relative;}#sk-container-id-1 div.sk-item::before, #sk-container-id-1 div.sk-parallel-item::before {content: \"\";position: absolute;border-left: 1px solid gray;box-sizing: border-box;top: 0;bottom: 0;left: 50%;z-index: -1;}#sk-container-id-1 div.sk-parallel-item {display: flex;flex-direction: column;z-index: 1;position: relative;background-color: white;}#sk-container-id-1 div.sk-parallel-item:first-child::after {align-self: flex-end;width: 50%;}#sk-container-id-1 div.sk-parallel-item:last-child::after {align-self: flex-start;width: 50%;}#sk-container-id-1 div.sk-parallel-item:only-child::after {width: 0;}#sk-container-id-1 div.sk-dashed-wrapped {border: 1px dashed gray;margin: 0 0.4em 0.5em 0.4em;box-sizing: border-box;padding-bottom: 0.4em;background-color: white;}#sk-container-id-1 div.sk-label label {font-family: monospace;font-weight: bold;display: inline-block;line-height: 1.2em;}#sk-container-id-1 div.sk-label-container {text-align: center;}#sk-container-id-1 div.sk-container {/* jupyter's `normalize.less` sets `[hidden] { display: none; }` but bootstrap.min.css set `[hidden] { display: none !important; }` so we also need the `!important` here to be able to override the default hidden behavior on the sphinx rendered scikit-learn.org. See: https://github.com/scikit-learn/scikit-learn/issues/21755 */display: inline-block !important;position: relative;}#sk-container-id-1 div.sk-text-repr-fallback {display: none;}</style><div id=\"sk-container-id-1\" class=\"sk-top-container\"><div class=\"sk-text-repr-fallback\"><pre>LinearRegression()</pre><b>In a Jupyter environment, please rerun this cell to show the HTML representation or trust the notebook. <br />On GitHub, the HTML representation is unable to render, please try loading this page with nbviewer.org.</b></div><div class=\"sk-container\" hidden><div class=\"sk-item\"><div class=\"sk-estimator sk-toggleable\"><input class=\"sk-toggleable__control sk-hidden--visually\" id=\"sk-estimator-id-1\" type=\"checkbox\" checked><label for=\"sk-estimator-id-1\" class=\"sk-toggleable__label sk-toggleable__label-arrow\">LinearRegression</label><div class=\"sk-toggleable__content\"><pre>LinearRegression()</pre></div></div></div></div></div>"
            ],
            "text/plain": [
              "LinearRegression()"
            ]
          },
          "execution_count": 14,
          "metadata": {},
          "output_type": "execute_result"
        }
      ],
      "source": [
        "from sklearn.linear_model import LinearRegression\n",
        "regressor=LinearRegression()\n",
        "regressor.fit(x_train,y_train)"
      ]
    },
    {
      "cell_type": "markdown",
      "metadata": {
        "id": "wcoI2ntOa8Is"
      },
      "source": [
        "**Predicting the Test set results**"
      ]
    },
    {
      "cell_type": "code",
      "execution_count": 15,
      "metadata": {
        "id": "wrZ1ekQBX-qS"
      },
      "outputs": [],
      "source": [
        "y_pred=regressor.predict(x_test)"
      ]
    },
    {
      "cell_type": "code",
      "execution_count": 16,
      "metadata": {
        "colab": {
          "base_uri": "https://localhost:8080/"
        },
        "id": "iIqZnqHkbZdA",
        "outputId": "e564976d-8b4e-415e-e7fb-1e8174f2bf5d"
      },
      "outputs": [
        {
          "data": {
            "text/plain": [
              "array([ 1726400.90537011,  9755865.4006472 ,  3794596.30566876,\n",
              "        1726400.90537011,  2578010.77608132,  1361425.24649388,\n",
              "        6471084.47076112,  5254498.94117368,  4767864.72933871,\n",
              "        8174304.21218354, 15230500.28379067,  4037913.41158625,\n",
              "        4646206.17637996,  1726400.90537011,  3186303.54087504,\n",
              "        2942986.43495755,  7687670.00034856,  2091376.56424635,\n",
              "        4889523.28229745,  6106108.81188489])"
            ]
          },
          "execution_count": 16,
          "metadata": {},
          "output_type": "execute_result"
        }
      ],
      "source": [
        "y_pred"
      ]
    },
    {
      "cell_type": "markdown",
      "metadata": {
        "id": "wQ2-zeifbErJ"
      },
      "source": [
        "**Visualising the Training set results**"
      ]
    },
    {
      "cell_type": "code",
      "execution_count": 17,
      "metadata": {
        "colab": {
          "base_uri": "https://localhost:8080/",
          "height": 312
        },
        "id": "lxPy7fYtX-s9",
        "outputId": "cd036bd3-cbb7-45ae-cec0-1a03a24735b3"
      },
      "outputs": [
        {
          "data": {
            "text/plain": [
              "Text(0, 0.5, 'Revenue')"
            ]
          },
          "execution_count": 17,
          "metadata": {},
          "output_type": "execute_result"
        },
        {
          "data": {
            "image/png": "[encoded data removed]",
            "text/plain": [
              "<Figure size 640x480 with 1 Axes>"
            ]
          },
          "metadata": {},
          "output_type": "display_data"
        }
      ],
      "source": [
        "plt.scatter(x_train,y_train,color=\"blue\")\n",
        "plt.plot(x_train,regressor.predict(x_train),color=\"green\")\n",
        "plt.title(\"Revenue vs orders\")\n",
        "plt.xlabel(\"orders\")\n",
        "plt.ylabel(\"Revenue\")\n",
        "\n"
      ]
    },
    {
      "cell_type": "markdown",
      "metadata": {
        "id": "NRqJCPbobNvv"
      },
      "source": [
        "**Visualising the Test set results**"
      ]
    },
    {
      "cell_type": "code",
      "execution_count": 18,
      "metadata": {
        "colab": {
          "base_uri": "https://localhost:8080/",
          "height": 312
        },
        "id": "0b6eaTEBe9Y-",
        "outputId": "a0c3dcbb-fa88-4a6c-cd08-0ff134c7af0f"
      },
      "outputs": [
        {
          "data": {
            "text/plain": [
              "Text(0, 0.5, 'Revenue')"
            ]
          },
          "execution_count": 18,
          "metadata": {},
          "output_type": "execute_result"
        },
        {
          "data": {
            "image/png": "[encoded data removed]",
            "text/plain": [
              "<Figure size 640x480 with 1 Axes>"
            ]
          },
          "metadata": {},
          "output_type": "display_data"
        }
      ],
      "source": [
        "plt.scatter(x_test,y_test,color=\"blue\")\n",
        "plt.plot(x_train,regressor.predict(x_train),color=\"green\")\n",
        "plt.title(\"Revenue vs orders\")\n",
        "plt.xlabel(\"orders\")\n",
        "plt.ylabel(\"Revenue\")"
      ]
    },
    {
      "cell_type": "markdown",
      "metadata": {
        "id": "TL8w9V2YbpuI"
      },
      "source": [
        "**Accuracy of the Model**"
      ]
    },
    {
      "cell_type": "code",
      "execution_count": 19,
      "metadata": {
        "id": "qpAaU8rlX-vM"
      },
      "outputs": [],
      "source": [
        "from sklearn.metrics import r2_score"
      ]
    },
    {
      "cell_type": "code",
      "execution_count": 20,
      "metadata": {
        "id": "hHpCHRbPX-y3"
      },
      "outputs": [],
      "source": [
        "score=r2_score(y_pred,y_test)"
      ]
    },
    {
      "cell_type": "code",
      "execution_count": 21,
      "metadata": {
        "colab": {
          "base_uri": "https://localhost:8080/"
        },
        "id": "D1gOLfZAuH5e",
        "outputId": "0c676630-1f0f-4bbe-daa7-6d5d78f743a2"
      },
      "outputs": [
        {
          "data": {
            "text/plain": [
              "0.9640306011668357"
            ]
          },
          "execution_count": 21,
          "metadata": {},
          "output_type": "execute_result"
        }
      ],
      "source": [
        "score"
      ]
    }
  ],
  "metadata": {
    "colab": {
      "name": "Revenue prediction model.ipynb",
      "provenance": []
    },
    "kernelspec": {
      "display_name": "Python 3",
      "name": "python3"
    },
    "language_info": {
      "codemirror_mode": {
        "name": "ipython",
        "version": 3
      },
      "file_extension": ".py",
      "mimetype": "text/x-python",
      "name": "python",
      "nbconvert_exporter": "python",
      "pygments_lexer": "ipython3",
      "version": "3.11.5"
    }
  },
  "nbformat": 4,
  "nbformat_minor": 0
}
